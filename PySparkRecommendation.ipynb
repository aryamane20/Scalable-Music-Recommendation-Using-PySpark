{
  "nbformat": 4,
  "nbformat_minor": 0,
  "metadata": {
    "colab": {
      "provenance": []
    },
    "kernelspec": {
      "name": "python3",
      "display_name": "Python 3"
    },
    "language_info": {
      "name": "python"
    }
  },
  "cells": [
    {
      "cell_type": "markdown",
      "source": [
        "# **Scalable Music Recommendation Using Apache Spark**"
      ],
      "metadata": {
        "id": "DLQyT8UxXUU_"
      }
    },
    {
      "cell_type": "code",
      "execution_count": 1,
      "metadata": {
        "colab": {
          "base_uri": "https://localhost:8080/"
        },
        "collapsed": true,
        "id": "FQMmidtiu1Im",
        "outputId": "af1c1cb5-7691-4626-d0a3-587c2d070f9a"
      },
      "outputs": [
        {
          "output_type": "stream",
          "name": "stdout",
          "text": [
            "Spark is ready!\n"
          ]
        }
      ],
      "source": [
        "!apt-get install openjdk-8-jdk-headless -qq > /dev/null\n",
        "!wget -q https://archive.apache.org/dist/spark/spark-3.4.1/spark-3.4.1-bin-hadoop3.tgz\n",
        "!tar -xzf spark-3.4.1-bin-hadoop3.tgz\n",
        "!pip install -q findspark\n",
        "\n",
        "import os\n",
        "os.environ[\"JAVA_HOME\"] = \"/usr/lib/jvm/java-8-openjdk-amd64\"\n",
        "os.environ[\"SPARK_HOME\"] = \"/content/spark-3.4.1-bin-hadoop3\"\n",
        "import findspark\n",
        "findspark.init()\n",
        "from pyspark.sql import SparkSession\n",
        "spark = SparkSession.builder.appName(\"UserAnalytics\").getOrCreate()\n",
        "\n",
        "print(\"Spark is ready!\")\n",
        "\n"
      ]
    },
    {
      "cell_type": "markdown",
      "source": [
        "#**Load the CSV in PySpark**\n",
        "\n"
      ],
      "metadata": {
        "id": "kJKh1aslwF_z"
      }
    },
    {
      "cell_type": "code",
      "source": [
        "df = spark.read.csv(\"/Last.fm_data.csv\", header=True, inferSchema=True)\n",
        "df.printSchema()\n",
        "df.show(5)\n"
      ],
      "metadata": {
        "colab": {
          "base_uri": "https://localhost:8080/"
        },
        "id": "757KdPwjwHSW",
        "outputId": "447edc66-33df-4a84-ae36-49e9d312ccb2"
      },
      "execution_count": 2,
      "outputs": [
        {
          "output_type": "stream",
          "name": "stdout",
          "text": [
            "root\n",
            " |-- _c0: integer (nullable = true)\n",
            " |-- Username: string (nullable = true)\n",
            " |-- Artist: string (nullable = true)\n",
            " |-- Track: string (nullable = true)\n",
            " |-- Album: string (nullable = true)\n",
            " |-- Date: string (nullable = true)\n",
            " |-- Time: string (nullable = true)\n",
            "\n",
            "+---+--------+---------------+--------------------+--------------------+-----------+------+\n",
            "|_c0|Username|         Artist|               Track|               Album|       Date|  Time|\n",
            "+---+--------+---------------+--------------------+--------------------+-----------+------+\n",
            "|  0| Babs_05|Isobel Campbell|The Circus Is Lea...|Ballad of the Bro...|31 Jan 2021| 23:36|\n",
            "|  1| Babs_05|Isobel Campbell|        Dusty Wreath|Ballad of the Bro...|31 Jan 2021| 23:32|\n",
            "|  2| Babs_05|Isobel Campbell|Honey Child What ...|Ballad of the Bro...|31 Jan 2021| 23:28|\n",
            "|  3| Babs_05|Isobel Campbell|It's Hard To Kill...|Ballad of the Bro...|31 Jan 2021| 23:25|\n",
            "|  4| Babs_05|Isobel Campbell|     Saturday's Gone|Ballad of the Bro...|31 Jan 2021| 23:21|\n",
            "+---+--------+---------------+--------------------+--------------------+-----------+------+\n",
            "only showing top 5 rows\n",
            "\n"
          ]
        }
      ]
    },
    {
      "cell_type": "markdown",
      "source": [
        "# **ETL**"
      ],
      "metadata": {
        "id": "XPwDAU5SHB-x"
      }
    },
    {
      "cell_type": "code",
      "source": [
        "# Drop index column and clean names\n",
        "df = df.drop(\"_c0\") \\\n",
        "       .withColumnRenamed(\"Username\", \"user_id\") \\\n",
        "       .withColumnRenamed(\"Artist\", \"artist_name\") \\\n",
        "       .withColumnRenamed(\"Track\", \"track_name\") \\\n",
        "       .withColumnRenamed(\"Album\", \"album_name\") \\\n",
        "       .withColumnRenamed(\"Date\", \"date\") \\\n",
        "       .withColumnRenamed(\"Time\", \"time\")\n",
        "\n",
        "df.show(5)\n",
        "\n"
      ],
      "metadata": {
        "colab": {
          "base_uri": "https://localhost:8080/"
        },
        "id": "GgrKB0Dmwc6v",
        "outputId": "d913d994-2bec-4e18-f977-9633efeb22a6"
      },
      "execution_count": 3,
      "outputs": [
        {
          "output_type": "stream",
          "name": "stdout",
          "text": [
            "+-------+---------------+--------------------+--------------------+-----------+------+\n",
            "|user_id|    artist_name|          track_name|          album_name|       date|  time|\n",
            "+-------+---------------+--------------------+--------------------+-----------+------+\n",
            "|Babs_05|Isobel Campbell|The Circus Is Lea...|Ballad of the Bro...|31 Jan 2021| 23:36|\n",
            "|Babs_05|Isobel Campbell|        Dusty Wreath|Ballad of the Bro...|31 Jan 2021| 23:32|\n",
            "|Babs_05|Isobel Campbell|Honey Child What ...|Ballad of the Bro...|31 Jan 2021| 23:28|\n",
            "|Babs_05|Isobel Campbell|It's Hard To Kill...|Ballad of the Bro...|31 Jan 2021| 23:25|\n",
            "|Babs_05|Isobel Campbell|     Saturday's Gone|Ballad of the Bro...|31 Jan 2021| 23:21|\n",
            "+-------+---------------+--------------------+--------------------+-----------+------+\n",
            "only showing top 5 rows\n",
            "\n"
          ]
        }
      ]
    },
    {
      "cell_type": "markdown",
      "source": [
        "# **Analysis**"
      ],
      "metadata": {
        "id": "-a6irbmHNGqD"
      }
    },
    {
      "cell_type": "code",
      "source": [
        "# Top 10 Most Played Artists\n",
        "from pyspark.sql.functions import count\n",
        "\n",
        "df.groupBy(\"artist_name\") \\\n",
        "  .agg(count(\"*\").alias(\"total_plays\")) \\\n",
        "  .orderBy(\"total_plays\", ascending=False) \\\n",
        "  .show(10, truncate=False)\n"
      ],
      "metadata": {
        "colab": {
          "base_uri": "https://localhost:8080/"
        },
        "id": "fpnS8TZLwiPW",
        "outputId": "1ca5b8ce-8b57-4b31-8671-6956da46b918"
      },
      "execution_count": 4,
      "outputs": [
        {
          "output_type": "stream",
          "name": "stdout",
          "text": [
            "+------------+-----------+\n",
            "|artist_name |total_plays|\n",
            "+------------+-----------+\n",
            "|Sophie      |1181       |\n",
            "|Madlib      |1074       |\n",
            "|Bicep       |766        |\n",
            "|Taylor Swift|649        |\n",
            "|Arlo Parks  |593        |\n",
            "|Morrissey   |498        |\n",
            "|Depeche Mode|469        |\n",
            "|Coldplay    |393        |\n",
            "|New Order   |367        |\n",
            "|MF DOOM     |366        |\n",
            "+------------+-----------+\n",
            "only showing top 10 rows\n",
            "\n"
          ]
        }
      ]
    },
    {
      "cell_type": "code",
      "source": [
        "#Most Active Users\n",
        "df.groupBy(\"user_id\") \\\n",
        "  .agg(count(\"*\").alias(\"total_listens\")) \\\n",
        "  .orderBy(\"total_listens\", ascending=False) \\\n",
        "  .show(10, truncate=False)\n"
      ],
      "metadata": {
        "colab": {
          "base_uri": "https://localhost:8080/"
        },
        "id": "CdraZ5WIxm8_",
        "outputId": "62dd859b-3572-4b2c-8b3a-565b924be8cd"
      },
      "execution_count": 5,
      "outputs": [
        {
          "output_type": "stream",
          "name": "stdout",
          "text": [
            "+----------+-------------+\n",
            "|user_id   |total_listens|\n",
            "+----------+-------------+\n",
            "|Babs_05   |33695        |\n",
            "|franhale  |32712        |\n",
            "|Knapster01|27015        |\n",
            "|eartle    |20966        |\n",
            "|massdosage|19015        |\n",
            "|jonocole  |17230        |\n",
            "|Orlenay   |10123        |\n",
            "|isaac     |1780         |\n",
            "|mremond   |1452         |\n",
            "|jajo      |1102         |\n",
            "+----------+-------------+\n",
            "only showing top 10 rows\n",
            "\n"
          ]
        }
      ]
    },
    {
      "cell_type": "code",
      "source": [
        "from pyspark.sql.functions import concat_ws, to_timestamp, regexp_replace\n",
        "\n",
        "# Make sure column names are lowercase if already renamed\n",
        "df = df.withColumn(\"datetime_str\", regexp_replace(concat_ws(\" \", \"date\", \"time\"), \" +\", \" \"))\n",
        "df = df.withColumn(\"timestamp\", to_timestamp(\"datetime_str\", \"dd MMM yyyy HH:mm\"))"
      ],
      "metadata": {
        "id": "Hvo6D7NMVec8"
      },
      "execution_count": 14,
      "outputs": []
    },
    {
      "cell_type": "code",
      "source": [
        "from pyspark.sql.functions import hour, col, count\n",
        "\n",
        "spark.conf.set(\"spark.sql.legacy.timeParserPolicy\", \"LEGACY\")\n",
        "\n",
        "df_valid = df.filter(col(\"timestamp\").isNotNull())\n",
        "\n",
        "df_valid.groupBy(hour(\"timestamp\").alias(\"hour\")) \\\n",
        "  .agg(count(\"*\").alias(\"activity_count\")) \\\n",
        "  .orderBy(\"hour\") \\\n",
        "  .show(24)\n"
      ],
      "metadata": {
        "colab": {
          "base_uri": "https://localhost:8080/"
        },
        "id": "QYZw5-JNVbzj",
        "outputId": "82cfe1e2-1196-4456-ee87-7cace79dd020"
      },
      "execution_count": 15,
      "outputs": [
        {
          "output_type": "stream",
          "name": "stdout",
          "text": [
            "+----+--------------+\n",
            "|hour|activity_count|\n",
            "+----+--------------+\n",
            "|   0|          4233|\n",
            "|   1|          3530|\n",
            "|   2|          3286|\n",
            "|   3|          3114|\n",
            "|   4|          2701|\n",
            "|   5|          2548|\n",
            "|   6|          2688|\n",
            "|   7|          2745|\n",
            "|   8|          3676|\n",
            "|   9|          4138|\n",
            "|  10|          6268|\n",
            "|  11|          7953|\n",
            "|  12|          7494|\n",
            "|  13|          8568|\n",
            "|  14|          8834|\n",
            "|  15|          9734|\n",
            "|  16|         10549|\n",
            "|  17|         10934|\n",
            "|  18|         11611|\n",
            "|  19|         10682|\n",
            "|  20|         10408|\n",
            "|  21|         10039|\n",
            "|  22|         10483|\n",
            "|  23|          9838|\n",
            "+----+--------------+\n",
            "\n"
          ]
        }
      ]
    },
    {
      "cell_type": "markdown",
      "source": [
        "# **ALS (Alternating Least Squares) Recommender in PySpark**\n"
      ],
      "metadata": {
        "id": "H3wWl8xLynAV"
      }
    },
    {
      "cell_type": "markdown",
      "source": [],
      "metadata": {
        "id": "8rW0H16RwBRA"
      }
    },
    {
      "cell_type": "code",
      "source": [
        "# Recommend artists to users based on their play frequency.\n",
        "from pyspark.ml.feature import StringIndexer\n",
        "\n",
        "\n",
        "user_indexer = StringIndexer(inputCol=\"user_id\", outputCol=\"user_index\") # Convert user_id and artist_name to numeric IDs\n",
        "artist_indexer = StringIndexer(inputCol=\"artist_name\", outputCol=\"artist_index\")\n",
        "\n",
        "\n",
        "df = user_indexer.fit(df).transform(df) # Fit and transform\n",
        "df = artist_indexer.fit(df).transform(df)\n"
      ],
      "metadata": {
        "id": "D-N2CG01yoKQ"
      },
      "execution_count": 16,
      "outputs": []
    },
    {
      "cell_type": "code",
      "source": [
        "# if you had multiple logs for the same artist by the same user, you could groupBy and sum instead\n",
        "from pyspark.sql.functions import lit\n",
        "\n",
        "df = df.withColumn(\"play_count\", lit(1))\n"
      ],
      "metadata": {
        "id": "czPPpnBBzXzT"
      },
      "execution_count": 17,
      "outputs": []
    },
    {
      "cell_type": "code",
      "source": [
        "from pyspark.sql.functions import sum\n",
        "\n",
        "df_agg = df.groupBy(\"user_index\", \"artist_index\") \\\n",
        "           .agg(sum(\"play_count\").alias(\"play_count\"))\n"
      ],
      "metadata": {
        "id": "YoJcBr_YzXpi"
      },
      "execution_count": 18,
      "outputs": []
    },
    {
      "cell_type": "markdown",
      "source": [
        "# **Training the ALS Model**"
      ],
      "metadata": {
        "id": "5sdy0FnbKhcQ"
      }
    },
    {
      "cell_type": "code",
      "source": [
        "# implicitPrefs=True: We're using implicit feedback (play counts, not ratings)\n",
        "# coldStartStrategy=\"drop\": Avoid recommending items with missing values\n",
        "# nonnegative=True: Ensures all learned values are ≥ 0\n",
        "\n",
        "\n",
        "from pyspark.ml.recommendation import ALS\n",
        "\n",
        "als = ALS(\n",
        "    userCol=\"user_index\",\n",
        "    itemCol=\"artist_index\",\n",
        "    ratingCol=\"play_count\",\n",
        "    nonnegative=True,\n",
        "    implicitPrefs=True,\n",
        "    coldStartStrategy=\"drop\"\n",
        ")\n",
        "\n",
        "model = als.fit(df_agg)\n",
        "print(\"Model is ready!\")"
      ],
      "metadata": {
        "id": "dCtUZPdNzITy",
        "colab": {
          "base_uri": "https://localhost:8080/"
        },
        "outputId": "51635295-9715-43bb-a843-80066c85c95f"
      },
      "execution_count": 19,
      "outputs": [
        {
          "output_type": "stream",
          "name": "stdout",
          "text": [
            "Model is ready!\n"
          ]
        }
      ]
    },
    {
      "cell_type": "markdown",
      "source": [
        "\n",
        "# **Recommendation**"
      ],
      "metadata": {
        "id": "i83dhkph0gf4"
      }
    },
    {
      "cell_type": "code",
      "source": [
        "# This gives the top 10 artists per user, based on predicted preference scores.\n",
        "user_recs = model.recommendForAllUsers(10)\n",
        "user_recs.show(10, truncate=False)\n"
      ],
      "metadata": {
        "colab": {
          "base_uri": "https://localhost:8080/"
        },
        "id": "e2ssa7hdzkqf",
        "outputId": "d449ea48-0815-4c37-cce4-d41d11c489a7"
      },
      "execution_count": 20,
      "outputs": [
        {
          "output_type": "stream",
          "name": "stdout",
          "text": [
            "+----------+-------------------------------------------------------------------------------------------------------------------------------------------------------------------------------------------+\n",
            "|user_index|recommendations                                                                                                                                                                            |\n",
            "+----------+-------------------------------------------------------------------------------------------------------------------------------------------------------------------------------------------+\n",
            "|10        |[{1, 0.9745259}, {5, 0.9737707}, {15, 0.97361386}, {62, 0.9732988}, {6, 0.97279334}, {89, 0.9716064}, {47, 0.9707129}, {23, 0.97029626}, {107, 0.96774}, {10, 0.9676074}]                  |\n",
            "|0         |[{0, 1.0352361}, {4, 1.0341349}, {1, 1.0336918}, {3, 1.0323961}, {2, 1.0323331}, {25, 1.0315053}, {14, 1.0311145}, {476, 1.0305898}, {24, 1.0304471}, {80, 1.0303601}]                     |\n",
            "|1         |[{142, 1.0188354}, {254, 1.0175033}, {544, 1.0163486}, {532, 1.0163486}, {526, 1.0163486}, {572, 1.0162603}, {610, 1.0161644}, {600, 1.0161644}, {670, 1.0159458}, {693, 1.0158848}]       |\n",
            "|2         |[{536, 1.0233914}, {531, 1.0233914}, {530, 1.0233914}, {643, 1.0230848}, {651, 1.0230255}, {888, 1.0222423}, {254, 1.0219855}, {1021, 1.0219092}, {1096, 1.0216491}, {1131, 1.021505}]     |\n",
            "|3         |[{411, 1.0242873}, {211, 1.0223488}, {1, 1.0222915}, {141, 1.0221246}, {2, 1.0219016}, {230, 1.0216898}, {267, 1.0216869}, {170, 1.0213196}, {118, 1.0212014}, {4, 1.0206466}]             |\n",
            "|4         |[{1, 1.035396}, {4, 1.0332125}, {2, 1.0317343}, {7, 1.0315831}, {8, 1.0313596}, {11, 1.0305384}, {16, 1.0303365}, {26, 1.0297129}, {0, 1.0290582}, {33, 1.0289183}]                        |\n",
            "|5         |[{0, 1.0208127}, {28, 1.0193092}, {29, 1.0191025}, {16, 1.0189221}, {211, 1.0189018}, {13, 1.0185044}, {40, 1.0182742}, {18, 1.0182383}, {7, 1.0182208}, {34, 1.018124}]                   |\n",
            "|6         |[{933, 1.0245252}, {1265, 1.0233243}, {1673, 1.0219795}, {1631, 1.0219795}, {369, 1.0214628}, {1866, 1.0212449}, {1948, 1.0208168}, {2191, 1.0198017}, {2332, 1.0191936}, {230, 1.0191544}]|\n",
            "|7         |[{1, 1.0849184}, {5, 1.0842489}, {15, 1.0840845}, {62, 1.0836987}, {6, 1.0833831}, {89, 1.0820572}, {47, 1.0815073}, {23, 1.0811311}, {107, 1.0787829}, {58, 1.0781955}]                   |\n",
            "|8         |[{999, 1.0683767}, {2766, 1.0582376}, {2736, 1.0582376}, {1847, 1.0416285}, {2104, 1.0270221}, {1, 1.0225873}, {5, 1.0213203}, {15, 1.0211276}, {62, 1.020894}, {424, 1.0208341}]          |\n",
            "+----------+-------------------------------------------------------------------------------------------------------------------------------------------------------------------------------------------+\n",
            "only showing top 10 rows\n",
            "\n"
          ]
        }
      ]
    },
    {
      "cell_type": "code",
      "source": [
        "# You can reverse map artist IDs using the artist_indexer.labels list:\n",
        "# Re-fit with a different output column name to avoid conflict\n",
        "artist_indexer_model = StringIndexer(inputCol=\"artist_name\", outputCol=\"artist_index_tmp\").fit(df)\n",
        "\n",
        "# Just extract the label list — no need to transform again\n",
        "artist_id_to_name = artist_indexer_model.labels\n",
        "\n"
      ],
      "metadata": {
        "id": "AVetv3XEzsSp"
      },
      "execution_count": 21,
      "outputs": []
    },
    {
      "cell_type": "code",
      "source": [
        "# Fit the model separately for reverse mapping\n",
        "from pyspark.ml.feature import StringIndexer\n",
        "\n",
        "indexer_for_lookup = StringIndexer(inputCol=\"artist_name\", outputCol=\"artist_index_tmp\")\n",
        "artist_indexer_model = indexer_for_lookup.fit(df)\n",
        "\n",
        "# Get mapping of index to artist name\n",
        "artist_id_to_name = artist_indexer_model.labels\n"
      ],
      "metadata": {
        "id": "Tm46zzk-0FQX"
      },
      "execution_count": 22,
      "outputs": []
    },
    {
      "cell_type": "code",
      "source": [
        "# Example: first user’s recommendations\n",
        "first_user = user_recs.select(\"recommendations\").first()[0]\n",
        "\n",
        "for artist_index, score in first_user:\n",
        "    name = artist_id_to_name[int(artist_index)]\n",
        "    print(f\"🎵 {name} — Score: {score:.2f}\")\n"
      ],
      "metadata": {
        "colab": {
          "base_uri": "https://localhost:8080/"
        },
        "id": "RUewFEsl0KE4",
        "outputId": "29e57c86-2146-44d6-cc3f-3002b6bbe9a1"
      },
      "execution_count": 23,
      "outputs": [
        {
          "output_type": "stream",
          "name": "stdout",
          "text": [
            "🎵 Madlib — Score: 0.97\n",
            "🎵 Morrissey — Score: 0.97\n",
            "🎵 Metric — Score: 0.97\n",
            "🎵 Tim Hecker — Score: 0.97\n",
            "🎵 Depeche Mode — Score: 0.97\n",
            "🎵 Caspian — Score: 0.97\n",
            "🎵 Ólafur Arnalds — Score: 0.97\n",
            "🎵 Johann Sebastian Bach — Score: 0.97\n",
            "🎵 Within Temptation — Score: 0.97\n",
            "🎵 James Blake — Score: 0.97\n"
          ]
        }
      ]
    },
    {
      "cell_type": "markdown",
      "source": [
        "# **Visualize Recommendations**"
      ],
      "metadata": {
        "id": "JHqctZNn0qZ7"
      }
    },
    {
      "cell_type": "code",
      "source": [
        "\n",
        "from pyspark.sql.functions import explode\n",
        "\n",
        "# Explode recommendations into individual rows\n",
        "flat_recs = user_recs.selectExpr(\"user_index\", \"explode(recommendations) as rec\") \\\n",
        "                     .select(\"user_index\", \"rec.artist_index\", \"rec.rating\")\n",
        "\n",
        "flat_recs.show(10)\n"
      ],
      "metadata": {
        "colab": {
          "base_uri": "https://localhost:8080/"
        },
        "id": "0ym8ali40qFA",
        "outputId": "59850531-5044-49d7-cb1e-ca8f49e29afc"
      },
      "execution_count": 24,
      "outputs": [
        {
          "output_type": "stream",
          "name": "stdout",
          "text": [
            "+----------+------------+----------+\n",
            "|user_index|artist_index|    rating|\n",
            "+----------+------------+----------+\n",
            "|        10|           1| 0.9745259|\n",
            "|        10|           5| 0.9737707|\n",
            "|        10|          15|0.97361386|\n",
            "|        10|          62| 0.9732988|\n",
            "|        10|           6|0.97279334|\n",
            "|        10|          89| 0.9716064|\n",
            "|        10|          47| 0.9707129|\n",
            "|        10|          23|0.97029626|\n",
            "|        10|         107|   0.96774|\n",
            "|        10|          10| 0.9676074|\n",
            "+----------+------------+----------+\n",
            "only showing top 10 rows\n",
            "\n"
          ]
        }
      ]
    },
    {
      "cell_type": "code",
      "source": [
        "# Map Artist Index Back to Names\n",
        "# Convert Spark DataFrame to Pandas for easy plotting\n",
        "flat_recs_pd = flat_recs.toPandas()\n",
        "\n",
        "# Map artist_index to names\n",
        "flat_recs_pd[\"artist_name\"] = flat_recs_pd[\"artist_index\"].apply(lambda i: artist_id_to_name[int(i)])\n",
        "\n",
        "# Count how many times each artist was recommended\n",
        "top_artists = flat_recs_pd[\"artist_name\"].value_counts().head(10)\n",
        "\n",
        "# Display as a table\n",
        "print(top_artists)\n"
      ],
      "metadata": {
        "colab": {
          "base_uri": "https://localhost:8080/"
        },
        "id": "xURDqYWj00VA",
        "outputId": "1aeee6ba-cfda-4226-e7c2-1849ca63dec9"
      },
      "execution_count": 26,
      "outputs": [
        {
          "output_type": "stream",
          "name": "stdout",
          "text": [
            "artist_name\n",
            "Madlib                   7\n",
            "Morrissey                4\n",
            "Metric                   4\n",
            "Tim Hecker               4\n",
            "Depeche Mode             3\n",
            "Caspian                  3\n",
            "Ólafur Arnalds           3\n",
            "Johann Sebastian Bach    3\n",
            "Within Temptation        3\n",
            "Sophie                   3\n",
            "Name: count, dtype: int64\n"
          ]
        }
      ]
    },
    {
      "cell_type": "code",
      "source": [
        "import matplotlib.pyplot as plt\n",
        "\n",
        "# Plot the bar chart\n",
        "plt.figure(figsize=(8, 5))\n",
        "top_artists.plot(kind='bar', color='lightcoral')\n",
        "\n",
        "plt.title(\"Top 10 Most Frequently Recommended Artists Across All Users\")\n",
        "plt.xlabel(\"Artist Name\")\n",
        "plt.ylabel(\"Number of Times Recommended\")\n",
        "plt.xticks(rotation=45)\n",
        "plt.tight_layout()\n",
        "plt.show()"
      ],
      "metadata": {
        "colab": {
          "base_uri": "https://localhost:8080/",
          "height": 507
        },
        "id": "u3jONHh504x3",
        "outputId": "989521c0-77c5-4201-907d-cbacd260999b"
      },
      "execution_count": 28,
      "outputs": [
        {
          "output_type": "display_data",
          "data": {
            "text/plain": [
              "<Figure size 800x500 with 1 Axes>"
            ],
            "image/png": "[encoded data removed]"
          },
          "metadata": {}
        }
      ]
    }
  ]
}